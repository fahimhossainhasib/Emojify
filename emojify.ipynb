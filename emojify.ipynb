{
 "cells": [
  {
   "cell_type": "code",
   "execution_count": 1,
   "metadata": {},
   "outputs": [
    {
     "name": "stderr",
     "output_type": "stream",
     "text": [
      "Using TensorFlow backend.\n"
     ]
    }
   ],
   "source": [
    "import numpy as np\n",
    "from keras.models import Model\n",
    "from keras.layers import Dense, Input, Dropout, LSTM, Activation\n",
    "from keras.layers.embeddings import Embedding\n",
    "from keras.preprocessing import sequence\n",
    "from keras.initializers import glorot_uniform\n",
    "from emo_utils import *\n",
    "import emoji\n",
    "import matplotlib.pyplot as plt\n",
    "%matplotlib inline"
   ]
  },
  {
   "cell_type": "code",
   "execution_count": 2,
   "metadata": {},
   "outputs": [],
   "source": [
    "word_to_index, index_to_word, word_to_vec_map = read_glove_vecs('glove.6B.50d.txt')"
   ]
  },
  {
   "cell_type": "code",
   "execution_count": 3,
   "metadata": {},
   "outputs": [],
   "source": [
    "X_train, Y_train = read_csv('train.csv')\n",
    "X_test, Y_test = read_csv('test.csv')"
   ]
  },
  {
   "cell_type": "code",
   "execution_count": 4,
   "metadata": {},
   "outputs": [],
   "source": [
    "maxLen = len(max(X_train, key=len).split())"
   ]
  },
  {
   "cell_type": "code",
   "execution_count": 5,
   "metadata": {},
   "outputs": [],
   "source": [
    "def pretrained_embedding_layer(word_to_vec_map, word_to_index):\n",
    "    vocab_len = len(word_to_index) + 1\n",
    "    emb_dim = word_to_vec_map[\"cucumber\"].shape[0]\n",
    "    emb_matrix = np.zeros((vocab_len, emb_dim))\n",
    "    \n",
    "    for word, idx in word_to_index.items():\n",
    "        emb_matrix[idx, :] = word_to_vec_map[word]\n",
    "\n",
    "    embedding_layer = Embedding(vocab_len, emb_dim, trainable = False)\n",
    "    embedding_layer.build((None,))\n",
    "    embedding_layer.set_weights([emb_matrix])\n",
    "    return embedding_layer"
   ]
  },
  {
   "cell_type": "code",
   "execution_count": 6,
   "metadata": {},
   "outputs": [
    {
     "name": "stdout",
     "output_type": "stream",
     "text": [
      "WARNING:tensorflow:From C:\\Users\\Hasib\\miniconda3\\envs\\tensorflow\\lib\\site-packages\\tensorflow_core\\python\\ops\\resource_variable_ops.py:1630: calling BaseResourceVariable.__init__ (from tensorflow.python.ops.resource_variable_ops) with constraint is deprecated and will be removed in a future version.\n",
      "Instructions for updating:\n",
      "If using Keras pass *_constraint arguments to layers.\n"
     ]
    }
   ],
   "source": [
    "embedding_layer = pretrained_embedding_layer(word_to_vec_map, word_to_index)"
   ]
  },
  {
   "cell_type": "code",
   "execution_count": 7,
   "metadata": {},
   "outputs": [],
   "source": [
    "def Emojify(input_shape, word_to_vec_map, word_to_index):\n",
    "    sentence_indices = Input(input_shape, dtype = 'int32')\n",
    "    embedding_layer = pretrained_embedding_layer(word_to_vec_map, word_to_index)\n",
    "    embeddings = embedding_layer(sentence_indices)\n",
    "    X = LSTM(units = 128, return_sequences = True)(embeddings)\n",
    "    X = Dropout(rate = 0.5)(X)\n",
    "    X = LSTM(units = 128, return_sequences = False)(X)\n",
    "    X = Dropout(rate = 0.5)(X)\n",
    "    X = Dense(units = 5)(X)\n",
    "    X = Activation('softmax')(X)\n",
    "    model = Model(inputs = sentence_indices, outputs = X)\n",
    "    return model"
   ]
  },
  {
   "cell_type": "code",
   "execution_count": 8,
   "metadata": {},
   "outputs": [
    {
     "name": "stdout",
     "output_type": "stream",
     "text": [
      "Model: \"model_1\"\n",
      "_________________________________________________________________\n",
      "Layer (type)                 Output Shape              Param #   \n",
      "=================================================================\n",
      "input_1 (InputLayer)         (None, 10)                0         \n",
      "_________________________________________________________________\n",
      "embedding_2 (Embedding)      (None, 10, 50)            20000050  \n",
      "_________________________________________________________________\n",
      "lstm_1 (LSTM)                (None, 10, 128)           91648     \n",
      "_________________________________________________________________\n",
      "dropout_1 (Dropout)          (None, 10, 128)           0         \n",
      "_________________________________________________________________\n",
      "lstm_2 (LSTM)                (None, 128)               131584    \n",
      "_________________________________________________________________\n",
      "dropout_2 (Dropout)          (None, 128)               0         \n",
      "_________________________________________________________________\n",
      "dense_1 (Dense)              (None, 5)                 645       \n",
      "_________________________________________________________________\n",
      "activation_1 (Activation)    (None, 5)                 0         \n",
      "=================================================================\n",
      "Total params: 20,223,927\n",
      "Trainable params: 223,877\n",
      "Non-trainable params: 20,000,050\n",
      "_________________________________________________________________\n"
     ]
    }
   ],
   "source": [
    "model = Emojify((maxLen,), word_to_vec_map, word_to_index)\n",
    "model.summary()"
   ]
  },
  {
   "cell_type": "code",
   "execution_count": 9,
   "metadata": {},
   "outputs": [],
   "source": [
    "model.compile(loss='categorical_crossentropy', optimizer='adam', metrics=['accuracy'])"
   ]
  },
  {
   "cell_type": "code",
   "execution_count": 10,
   "metadata": {},
   "outputs": [],
   "source": [
    "def sentences_to_indices(X, word_to_index, max_len):    \n",
    "    m = X.shape[0]\n",
    "    X_indices = np.zeros((X.shape[0], max_len))\n",
    "    for i in range(m):\n",
    "        sentence_words = X[i].lower().strip().split()\n",
    "        j = 0\n",
    "        for w in sentence_words:\n",
    "            X_indices[i, j] = word_to_index[w]\n",
    "            j = j + 1\n",
    "    return X_indices"
   ]
  },
  {
   "cell_type": "code",
   "execution_count": 11,
   "metadata": {},
   "outputs": [],
   "source": [
    "X_train_indices = sentences_to_indices(X_train, word_to_index, maxLen)\n",
    "Y_train_oh = convert_to_one_hot(Y_train, C = 5)"
   ]
  },
  {
   "cell_type": "code",
   "execution_count": 12,
   "metadata": {},
   "outputs": [
    {
     "name": "stdout",
     "output_type": "stream",
     "text": [
      "WARNING:tensorflow:From C:\\Users\\Hasib\\miniconda3\\envs\\tensorflow\\lib\\site-packages\\keras\\backend\\tensorflow_backend.py:422: The name tf.global_variables is deprecated. Please use tf.compat.v1.global_variables instead.\n",
      "\n",
      "Epoch 1/40\n",
      "132/132 [==============================] - 2s 16ms/step - loss: 1.5950 - accuracy: 0.2424\n",
      "Epoch 2/40\n",
      "132/132 [==============================] - 0s 1ms/step - loss: 1.5215 - accuracy: 0.3258\n",
      "Epoch 3/40\n",
      "132/132 [==============================] - 0s 1ms/step - loss: 1.4582 - accuracy: 0.3485\n",
      "Epoch 4/40\n",
      "132/132 [==============================] - 0s 1ms/step - loss: 1.3713 - accuracy: 0.4773\n",
      "Epoch 5/40\n",
      "132/132 [==============================] - 0s 1ms/step - loss: 1.2861 - accuracy: 0.5379\n",
      "Epoch 6/40\n",
      "132/132 [==============================] - 0s 1ms/step - loss: 1.1215 - accuracy: 0.5833\n",
      "Epoch 7/40\n",
      "132/132 [==============================] - 0s 1ms/step - loss: 1.0352 - accuracy: 0.6364\n",
      "Epoch 8/40\n",
      "132/132 [==============================] - 0s 1ms/step - loss: 0.8442 - accuracy: 0.7424\n",
      "Epoch 9/40\n",
      "132/132 [==============================] - 0s 1ms/step - loss: 0.7382 - accuracy: 0.7197\n",
      "Epoch 10/40\n",
      "132/132 [==============================] - 0s 2ms/step - loss: 0.6773 - accuracy: 0.7727\n",
      "Epoch 11/40\n",
      "132/132 [==============================] - 0s 2ms/step - loss: 0.5848 - accuracy: 0.8106\n",
      "Epoch 12/40\n",
      "132/132 [==============================] - 0s 2ms/step - loss: 0.4885 - accuracy: 0.8258\n",
      "Epoch 13/40\n",
      "132/132 [==============================] - 0s 1ms/step - loss: 0.4686 - accuracy: 0.8333\n",
      "Epoch 14/40\n",
      "132/132 [==============================] - 0s 1ms/step - loss: 0.5006 - accuracy: 0.7803\n",
      "Epoch 15/40\n",
      "132/132 [==============================] - 0s 2ms/step - loss: 0.3623 - accuracy: 0.8712\n",
      "Epoch 16/40\n",
      "132/132 [==============================] - 0s 1ms/step - loss: 0.3344 - accuracy: 0.8788\n",
      "Epoch 17/40\n",
      "132/132 [==============================] - 0s 1ms/step - loss: 0.2823 - accuracy: 0.8939\n",
      "Epoch 18/40\n",
      "132/132 [==============================] - 0s 1ms/step - loss: 0.2819 - accuracy: 0.9015\n",
      "Epoch 19/40\n",
      "132/132 [==============================] - 0s 1ms/step - loss: 0.1970 - accuracy: 0.9242\n",
      "Epoch 20/40\n",
      "132/132 [==============================] - 0s 2ms/step - loss: 0.2237 - accuracy: 0.9394\n",
      "Epoch 21/40\n",
      "132/132 [==============================] - 0s 2ms/step - loss: 0.2797 - accuracy: 0.8939\n",
      "Epoch 22/40\n",
      "132/132 [==============================] - 0s 2ms/step - loss: 0.1922 - accuracy: 0.9167\n",
      "Epoch 23/40\n",
      "132/132 [==============================] - 0s 2ms/step - loss: 0.1429 - accuracy: 0.9545\n",
      "Epoch 24/40\n",
      "132/132 [==============================] - 0s 2ms/step - loss: 0.1882 - accuracy: 0.9470\n",
      "Epoch 25/40\n",
      "132/132 [==============================] - 0s 1ms/step - loss: 0.2050 - accuracy: 0.9242\n",
      "Epoch 26/40\n",
      "132/132 [==============================] - 0s 2ms/step - loss: 0.2108 - accuracy: 0.9394\n",
      "Epoch 27/40\n",
      "132/132 [==============================] - 0s 1ms/step - loss: 0.1812 - accuracy: 0.9242\n",
      "Epoch 28/40\n",
      "132/132 [==============================] - 0s 2ms/step - loss: 0.1414 - accuracy: 0.9470\n",
      "Epoch 29/40\n",
      "132/132 [==============================] - 0s 2ms/step - loss: 0.0949 - accuracy: 0.9697\n",
      "Epoch 30/40\n",
      "132/132 [==============================] - 0s 2ms/step - loss: 0.0709 - accuracy: 0.9848\n",
      "Epoch 31/40\n",
      "132/132 [==============================] - 0s 1ms/step - loss: 0.0549 - accuracy: 1.0000\n",
      "Epoch 32/40\n",
      "132/132 [==============================] - 0s 2ms/step - loss: 0.0286 - accuracy: 1.0000\n",
      "Epoch 33/40\n",
      "132/132 [==============================] - 0s 2ms/step - loss: 0.0298 - accuracy: 1.0000\n",
      "Epoch 34/40\n",
      "132/132 [==============================] - 0s 1ms/step - loss: 0.0280 - accuracy: 0.9924\n",
      "Epoch 35/40\n",
      "132/132 [==============================] - 0s 1ms/step - loss: 0.0141 - accuracy: 1.0000\n",
      "Epoch 36/40\n",
      "132/132 [==============================] - 0s 1ms/step - loss: 0.0116 - accuracy: 1.0000\n",
      "Epoch 37/40\n",
      "132/132 [==============================] - 0s 1ms/step - loss: 0.0166 - accuracy: 1.0000\n",
      "Epoch 38/40\n",
      "132/132 [==============================] - 0s 2ms/step - loss: 0.0153 - accuracy: 1.0000\n",
      "Epoch 39/40\n",
      "132/132 [==============================] - 0s 2ms/step - loss: 0.0798 - accuracy: 0.9697\n",
      "Epoch 40/40\n",
      "132/132 [==============================] - 0s 2ms/step - loss: 0.2118 - accuracy: 0.9545\n"
     ]
    },
    {
     "data": {
      "text/plain": [
       "<keras.callbacks.callbacks.History at 0x1b884b556c8>"
      ]
     },
     "execution_count": 12,
     "metadata": {},
     "output_type": "execute_result"
    }
   ],
   "source": [
    "#training the model\n",
    "model.fit(X_train_indices, Y_train_oh, epochs = 40, batch_size = 33, shuffle=True)"
   ]
  },
  {
   "cell_type": "code",
   "execution_count": 13,
   "metadata": {},
   "outputs": [
    {
     "name": "stdout",
     "output_type": "stream",
     "text": [
      "56/56 [==============================] - 0s 3ms/step\n",
      "Test accuracy =  0.7857142686843872\n"
     ]
    }
   ],
   "source": [
    "#testing the model on test data\n",
    "X_test_indices = sentences_to_indices(X_test, word_to_index, max_len = maxLen)\n",
    "Y_test_oh = convert_to_one_hot(Y_test, C = 5)\n",
    "loss, acc = model.evaluate(X_test_indices, Y_test_oh)\n",
    "print(\"Test accuracy = \", acc)"
   ]
  },
  {
   "cell_type": "code",
   "execution_count": 14,
   "metadata": {},
   "outputs": [
    {
     "name": "stdout",
     "output_type": "stream",
     "text": [
      "Expected emoji:😄 prediction: he got a very nice raise\t❤️\n",
      "Expected emoji:😄 prediction: she got me a nice present\t❤️\n",
      "Expected emoji:😄 prediction: he is a good friend\t❤️\n",
      "Expected emoji:😞 prediction: This girl is messing with me\t❤️\n",
      "Expected emoji:😄 prediction: you brighten my day\t❤️\n",
      "Expected emoji:😞 prediction: she is a bully\t❤️\n",
      "Expected emoji:😞 prediction: My life is so boring\t❤️\n",
      "Expected emoji:😄 prediction: will you be my valentine\t❤️\n",
      "Expected emoji:😄 prediction: I like to laugh\t❤️\n",
      "Expected emoji:😄 prediction: What you did was awesome\t😞\n",
      "Expected emoji:😞 prediction: go away\t⚾\n",
      "Expected emoji:😄 prediction: You deserve this nice prize\t❤️\n"
     ]
    }
   ],
   "source": [
    "#let's see the mislabelled texts\n",
    "C = 5\n",
    "y_test_oh = np.eye(C)[Y_test.reshape(-1)]\n",
    "X_test_indices = sentences_to_indices(X_test, word_to_index, maxLen)\n",
    "pred = model.predict(X_test_indices)\n",
    "for i in range(len(X_test)):\n",
    "    x = X_test_indices\n",
    "    num = np.argmax(pred[i])\n",
    "    if(num != Y_test[i]):\n",
    "        print('Expected emoji:'+ label_to_emoji(Y_test[i]) + ' prediction: '+ X_test[i] + label_to_emoji(num).strip())"
   ]
  },
  {
   "cell_type": "code",
   "execution_count": 15,
   "metadata": {},
   "outputs": [
    {
     "name": "stdout",
     "output_type": "stream",
     "text": [
      "i love you ❤️\n"
     ]
    }
   ],
   "source": [
    "#test your own text\n",
    "x_test = np.array([\"i love you\"])\n",
    "X_test_indices = sentences_to_indices(x_test, word_to_index, maxLen)\n",
    "print(x_test[0] +' '+  label_to_emoji(np.argmax(model.predict(X_test_indices))))"
   ]
  },
  {
   "cell_type": "code",
   "execution_count": null,
   "metadata": {},
   "outputs": [],
   "source": []
  }
 ],
 "metadata": {
  "kernelspec": {
   "display_name": "Python 3.7 (tensorflow)",
   "language": "python",
   "name": "tensorflow"
  },
  "language_info": {
   "codemirror_mode": {
    "name": "ipython",
    "version": 3
   },
   "file_extension": ".py",
   "mimetype": "text/x-python",
   "name": "python",
   "nbconvert_exporter": "python",
   "pygments_lexer": "ipython3",
   "version": "3.7.7"
  }
 },
 "nbformat": 4,
 "nbformat_minor": 4
}
